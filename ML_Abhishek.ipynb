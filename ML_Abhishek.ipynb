{
 "cells": [
  {
   "cell_type": "markdown",
   "metadata": {},
   "source": [
    "# Importing Libraries"
   ]
  },
  {
   "cell_type": "code",
   "execution_count": 1,
   "metadata": {
    "colab": {
     "base_uri": "https://localhost:8080/",
     "height": 206
    },
    "id": "AkoMXHJ65eTI",
    "outputId": "6a3b5d88-2c39-4b77-b37c-532ee43c685a"
   },
   "outputs": [],
   "source": [
    "import pandas as pd\n",
    "import io\n",
    "import numpy as np\n",
    "\n",
    "import matplotlib.pyplot as plt\n",
    "\n",
    "from sklearn.model_selection import train_test_split\n",
    "from sklearn.model_selection import cross_val_score\n",
    "from sklearn.linear_model import LogisticRegression\n",
    "from sklearn.tree import DecisionTreeClassifier\n",
    "from sklearn.ensemble import RandomForestClassifier\n",
    "\n",
    "from sklearn.model_selection import GridSearchCV\n",
    "\n",
    "from sklearn.metrics import accuracy_score, precision_score, recall_score, confusion_matrix, classification_report\n",
    "\n",
    "import warnings\n",
    "warnings.filterwarnings('ignore')"
   ]
  },
  {
   "cell_type": "code",
   "execution_count": 2,
   "metadata": {},
   "outputs": [
    {
     "data": {
      "text/html": [
       "<div>\n",
       "<style scoped>\n",
       "    .dataframe tbody tr th:only-of-type {\n",
       "        vertical-align: middle;\n",
       "    }\n",
       "\n",
       "    .dataframe tbody tr th {\n",
       "        vertical-align: top;\n",
       "    }\n",
       "\n",
       "    .dataframe thead th {\n",
       "        text-align: right;\n",
       "    }\n",
       "</style>\n",
       "<table border=\"1\" class=\"dataframe\">\n",
       "  <thead>\n",
       "    <tr style=\"text-align: right;\">\n",
       "      <th></th>\n",
       "      <th>timestamp</th>\n",
       "      <th>app_name</th>\n",
       "      <th>min</th>\n",
       "      <th>max</th>\n",
       "      <th>average</th>\n",
       "      <th>cpu</th>\n",
       "      <th>diskfree</th>\n",
       "      <th>memory</th>\n",
       "    </tr>\n",
       "  </thead>\n",
       "  <tbody>\n",
       "    <tr>\n",
       "      <th>0</th>\n",
       "      <td>2023-01-30T05:56:23.337850587Z</td>\n",
       "      <td>admin.Indium</td>\n",
       "      <td>1.914</td>\n",
       "      <td>3.786</td>\n",
       "      <td>2.802265</td>\n",
       "      <td>70.5</td>\n",
       "      <td>36.77</td>\n",
       "      <td>3.626398e+09</td>\n",
       "    </tr>\n",
       "    <tr>\n",
       "      <th>1</th>\n",
       "      <td>2023-01-30T05:56:24.963641773Z</td>\n",
       "      <td>admin.Indium</td>\n",
       "      <td>1.914</td>\n",
       "      <td>3.786</td>\n",
       "      <td>2.802265</td>\n",
       "      <td>70.5</td>\n",
       "      <td>36.77</td>\n",
       "      <td>3.626398e+09</td>\n",
       "    </tr>\n",
       "    <tr>\n",
       "      <th>2</th>\n",
       "      <td>2023-01-30T05:56:27.948262513Z</td>\n",
       "      <td>admin.Indium</td>\n",
       "      <td>1.914</td>\n",
       "      <td>3.786</td>\n",
       "      <td>2.802265</td>\n",
       "      <td>70.5</td>\n",
       "      <td>36.77</td>\n",
       "      <td>3.626398e+09</td>\n",
       "    </tr>\n",
       "    <tr>\n",
       "      <th>3</th>\n",
       "      <td>2023-01-30T05:56:30.932110926Z</td>\n",
       "      <td>admin.Indium</td>\n",
       "      <td>1.914</td>\n",
       "      <td>3.786</td>\n",
       "      <td>2.802265</td>\n",
       "      <td>70.5</td>\n",
       "      <td>36.77</td>\n",
       "      <td>3.626398e+09</td>\n",
       "    </tr>\n",
       "    <tr>\n",
       "      <th>4</th>\n",
       "      <td>2023-01-30T05:56:33.941538483Z</td>\n",
       "      <td>admin.Indium</td>\n",
       "      <td>0.818</td>\n",
       "      <td>2.255</td>\n",
       "      <td>1.507328</td>\n",
       "      <td>86.7</td>\n",
       "      <td>36.75</td>\n",
       "      <td>1.772482e+09</td>\n",
       "    </tr>\n",
       "  </tbody>\n",
       "</table>\n",
       "</div>"
      ],
      "text/plain": [
       "                        timestamp      app_name    min    max   average   cpu  \\\n",
       "0  2023-01-30T05:56:23.337850587Z  admin.Indium  1.914  3.786  2.802265  70.5   \n",
       "1  2023-01-30T05:56:24.963641773Z  admin.Indium  1.914  3.786  2.802265  70.5   \n",
       "2  2023-01-30T05:56:27.948262513Z  admin.Indium  1.914  3.786  2.802265  70.5   \n",
       "3  2023-01-30T05:56:30.932110926Z  admin.Indium  1.914  3.786  2.802265  70.5   \n",
       "4  2023-01-30T05:56:33.941538483Z  admin.Indium  0.818  2.255  1.507328  86.7   \n",
       "\n",
       "   diskfree        memory  \n",
       "0     36.77  3.626398e+09  \n",
       "1     36.77  3.626398e+09  \n",
       "2     36.77  3.626398e+09  \n",
       "3     36.77  3.626398e+09  \n",
       "4     36.75  1.772482e+09  "
      ]
     },
     "execution_count": 2,
     "metadata": {},
     "output_type": "execute_result"
    }
   ],
   "source": [
    "df = pd.read_csv('model.csv')\n",
    "df.head()"
   ]
  },
  {
   "cell_type": "code",
   "execution_count": 3,
   "metadata": {},
   "outputs": [
    {
     "name": "stdout",
     "output_type": "stream",
     "text": [
      "<class 'pandas.core.frame.DataFrame'>\n",
      "RangeIndex: 2058 entries, 0 to 2057\n",
      "Data columns (total 8 columns):\n",
      " #   Column     Non-Null Count  Dtype  \n",
      "---  ------     --------------  -----  \n",
      " 0   timestamp  2058 non-null   object \n",
      " 1   app_name   2057 non-null   object \n",
      " 2   min        2057 non-null   float64\n",
      " 3   max        2057 non-null   float64\n",
      " 4   average    2057 non-null   float64\n",
      " 5   cpu        2057 non-null   float64\n",
      " 6   diskfree   2057 non-null   float64\n",
      " 7   memory     2057 non-null   float64\n",
      "dtypes: float64(6), object(2)\n",
      "memory usage: 128.8+ KB\n"
     ]
    }
   ],
   "source": [
    "df.info()"
   ]
  },
  {
   "cell_type": "code",
   "execution_count": 4,
   "metadata": {
    "colab": {
     "base_uri": "https://localhost:8080/"
    },
    "id": "ilWAyAAv5xUl",
    "outputId": "c50f0806-abc0-4968-8a2a-05a35ac1a56b"
   },
   "outputs": [
    {
     "name": "stdout",
     "output_type": "stream",
     "text": [
      "Shape of dataframe df: (2058, 8)\n"
     ]
    }
   ],
   "source": [
    "print(\"Shape of dataframe df: {}\".format(df.shape))"
   ]
  },
  {
   "cell_type": "code",
   "execution_count": 5,
   "metadata": {
    "id": "CNyWE4xzpDxy"
   },
   "outputs": [],
   "source": [
    "column = df['cpu']"
   ]
  },
  {
   "cell_type": "code",
   "execution_count": 6,
   "metadata": {
    "id": "ZZAVM93SpN70"
   },
   "outputs": [],
   "source": [
    "unique_column = column.drop_duplicates()"
   ]
  },
  {
   "cell_type": "code",
   "execution_count": 7,
   "metadata": {
    "id": "qSfo-Y9czSf5"
   },
   "outputs": [],
   "source": [
    "# view dataframe summary\n",
    "\n",
    "max_value = unique_column.max()"
   ]
  },
  {
   "cell_type": "code",
   "execution_count": 8,
   "metadata": {
    "colab": {
     "base_uri": "https://localhost:8080/"
    },
    "id": "N6i-cmARpZTG",
    "outputId": "5ac09f43-65f3-4994-f137-2c7c50e93763"
   },
   "outputs": [
    {
     "name": "stdout",
     "output_type": "stream",
     "text": [
      "144.1\n"
     ]
    }
   ],
   "source": [
    "print(max_value)"
   ]
  },
  {
   "cell_type": "code",
   "execution_count": 9,
   "metadata": {
    "colab": {
     "base_uri": "https://localhost:8080/"
    },
    "id": "pSps-YyKIoso",
    "outputId": "a0031c7e-fd05-477c-c179-31fdcacd8f60"
   },
   "outputs": [
    {
     "data": {
      "text/plain": [
       "91.00315994166263"
      ]
     },
     "execution_count": 9,
     "metadata": {},
     "output_type": "execute_result"
    }
   ],
   "source": [
    "df.cpu.mean()\n"
   ]
  },
  {
   "cell_type": "code",
   "execution_count": 10,
   "metadata": {
    "colab": {
     "base_uri": "https://localhost:8080/"
    },
    "id": "GTogNkz1IowP",
    "outputId": "6ddef7d5-2cd3-4437-9077-2bb00a4f5a78"
   },
   "outputs": [
    {
     "data": {
      "text/plain": [
       "7.865928529495125"
      ]
     },
     "execution_count": 10,
     "metadata": {},
     "output_type": "execute_result"
    }
   ],
   "source": [
    "df[\"average\"].mean()"
   ]
  },
  {
   "cell_type": "code",
   "execution_count": 11,
   "metadata": {},
   "outputs": [
    {
     "data": {
      "text/plain": [
       "3791214448.0"
      ]
     },
     "execution_count": 11,
     "metadata": {},
     "output_type": "execute_result"
    }
   ],
   "source": [
    "df['memory'].max() "
   ]
  },
  {
   "cell_type": "code",
   "execution_count": 12,
   "metadata": {
    "id": "qLp8FNOisM7D"
   },
   "outputs": [],
   "source": [
    "import numpy as np\n",
    "\n",
    "conditions = [(df['max'] > 7) | (df['cpu'] > 91) | (df['memory'] > round(3791214448.0))]\n",
    "\n",
    "values = [1]\n",
    "\n",
    "df['condition'] = np.select(conditions, values)"
   ]
  },
  {
   "cell_type": "code",
   "execution_count": 13,
   "metadata": {
    "colab": {
     "base_uri": "https://localhost:8080/",
     "height": 206
    },
    "id": "weHhjrE6uIIi",
    "outputId": "fcb2f89d-df20-4e1b-c052-13444f74b945"
   },
   "outputs": [
    {
     "data": {
      "text/html": [
       "<div>\n",
       "<style scoped>\n",
       "    .dataframe tbody tr th:only-of-type {\n",
       "        vertical-align: middle;\n",
       "    }\n",
       "\n",
       "    .dataframe tbody tr th {\n",
       "        vertical-align: top;\n",
       "    }\n",
       "\n",
       "    .dataframe thead th {\n",
       "        text-align: right;\n",
       "    }\n",
       "</style>\n",
       "<table border=\"1\" class=\"dataframe\">\n",
       "  <thead>\n",
       "    <tr style=\"text-align: right;\">\n",
       "      <th></th>\n",
       "      <th>timestamp</th>\n",
       "      <th>app_name</th>\n",
       "      <th>min</th>\n",
       "      <th>max</th>\n",
       "      <th>average</th>\n",
       "      <th>cpu</th>\n",
       "      <th>diskfree</th>\n",
       "      <th>memory</th>\n",
       "      <th>condition</th>\n",
       "    </tr>\n",
       "  </thead>\n",
       "  <tbody>\n",
       "    <tr>\n",
       "      <th>0</th>\n",
       "      <td>2023-01-30T05:56:23.337850587Z</td>\n",
       "      <td>admin.Indium</td>\n",
       "      <td>1.914</td>\n",
       "      <td>3.786</td>\n",
       "      <td>2.802265</td>\n",
       "      <td>70.5</td>\n",
       "      <td>36.77</td>\n",
       "      <td>3.626398e+09</td>\n",
       "      <td>0</td>\n",
       "    </tr>\n",
       "    <tr>\n",
       "      <th>1</th>\n",
       "      <td>2023-01-30T05:56:24.963641773Z</td>\n",
       "      <td>admin.Indium</td>\n",
       "      <td>1.914</td>\n",
       "      <td>3.786</td>\n",
       "      <td>2.802265</td>\n",
       "      <td>70.5</td>\n",
       "      <td>36.77</td>\n",
       "      <td>3.626398e+09</td>\n",
       "      <td>0</td>\n",
       "    </tr>\n",
       "    <tr>\n",
       "      <th>2</th>\n",
       "      <td>2023-01-30T05:56:27.948262513Z</td>\n",
       "      <td>admin.Indium</td>\n",
       "      <td>1.914</td>\n",
       "      <td>3.786</td>\n",
       "      <td>2.802265</td>\n",
       "      <td>70.5</td>\n",
       "      <td>36.77</td>\n",
       "      <td>3.626398e+09</td>\n",
       "      <td>0</td>\n",
       "    </tr>\n",
       "    <tr>\n",
       "      <th>3</th>\n",
       "      <td>2023-01-30T05:56:30.932110926Z</td>\n",
       "      <td>admin.Indium</td>\n",
       "      <td>1.914</td>\n",
       "      <td>3.786</td>\n",
       "      <td>2.802265</td>\n",
       "      <td>70.5</td>\n",
       "      <td>36.77</td>\n",
       "      <td>3.626398e+09</td>\n",
       "      <td>0</td>\n",
       "    </tr>\n",
       "    <tr>\n",
       "      <th>4</th>\n",
       "      <td>2023-01-30T05:56:33.941538483Z</td>\n",
       "      <td>admin.Indium</td>\n",
       "      <td>0.818</td>\n",
       "      <td>2.255</td>\n",
       "      <td>1.507328</td>\n",
       "      <td>86.7</td>\n",
       "      <td>36.75</td>\n",
       "      <td>1.772482e+09</td>\n",
       "      <td>0</td>\n",
       "    </tr>\n",
       "  </tbody>\n",
       "</table>\n",
       "</div>"
      ],
      "text/plain": [
       "                        timestamp      app_name    min    max   average   cpu  \\\n",
       "0  2023-01-30T05:56:23.337850587Z  admin.Indium  1.914  3.786  2.802265  70.5   \n",
       "1  2023-01-30T05:56:24.963641773Z  admin.Indium  1.914  3.786  2.802265  70.5   \n",
       "2  2023-01-30T05:56:27.948262513Z  admin.Indium  1.914  3.786  2.802265  70.5   \n",
       "3  2023-01-30T05:56:30.932110926Z  admin.Indium  1.914  3.786  2.802265  70.5   \n",
       "4  2023-01-30T05:56:33.941538483Z  admin.Indium  0.818  2.255  1.507328  86.7   \n",
       "\n",
       "   diskfree        memory  condition  \n",
       "0     36.77  3.626398e+09          0  \n",
       "1     36.77  3.626398e+09          0  \n",
       "2     36.77  3.626398e+09          0  \n",
       "3     36.77  3.626398e+09          0  \n",
       "4     36.75  1.772482e+09          0  "
      ]
     },
     "execution_count": 13,
     "metadata": {},
     "output_type": "execute_result"
    }
   ],
   "source": [
    "df.head()"
   ]
  },
  {
   "cell_type": "code",
   "execution_count": 14,
   "metadata": {
    "colab": {
     "base_uri": "https://localhost:8080/"
    },
    "id": "DYHApINozngX",
    "outputId": "a8a55b2f-8ce0-4625-faa2-b5ca20462242"
   },
   "outputs": [
    {
     "data": {
      "text/plain": [
       "timestamp    0\n",
       "app_name     1\n",
       "min          1\n",
       "max          1\n",
       "average      1\n",
       "cpu          1\n",
       "diskfree     1\n",
       "memory       1\n",
       "condition    0\n",
       "dtype: int64"
      ]
     },
     "execution_count": 14,
     "metadata": {},
     "output_type": "execute_result"
    }
   ],
   "source": [
    "df.isna().sum()"
   ]
  },
  {
   "cell_type": "code",
   "execution_count": 15,
   "metadata": {
    "colab": {
     "base_uri": "https://localhost:8080/"
    },
    "id": "lIpBe0yR0EUx",
    "outputId": "9b93a611-8dc7-4532-ccc5-0e11eeff16fa"
   },
   "outputs": [
    {
     "data": {
      "text/plain": [
       "(2057, 9)"
      ]
     },
     "execution_count": 15,
     "metadata": {},
     "output_type": "execute_result"
    }
   ],
   "source": [
    "# drop the row with the missing values\n",
    "df.dropna(how=\"any\",inplace = True)\n",
    "df.shape"
   ]
  },
  {
   "cell_type": "code",
   "execution_count": 16,
   "metadata": {
    "colab": {
     "base_uri": "https://localhost:8080/"
    },
    "id": "UBR01PO_0IRw",
    "outputId": "744a0b9b-c8d1-4cb4-80bb-3c034d283f74"
   },
   "outputs": [
    {
     "data": {
      "text/plain": [
       "timestamp    0\n",
       "app_name     0\n",
       "min          0\n",
       "max          0\n",
       "average      0\n",
       "cpu          0\n",
       "diskfree     0\n",
       "memory       0\n",
       "condition    0\n",
       "dtype: int64"
      ]
     },
     "execution_count": 16,
     "metadata": {},
     "output_type": "execute_result"
    }
   ],
   "source": [
    "df.isna().sum()"
   ]
  },
  {
   "cell_type": "code",
   "execution_count": 17,
   "metadata": {},
   "outputs": [],
   "source": [
    "df = df.drop(['timestamp','app_name'],axis=1)"
   ]
  },
  {
   "cell_type": "code",
   "execution_count": 18,
   "metadata": {
    "colab": {
     "base_uri": "https://localhost:8080/",
     "height": 314
    },
    "id": "_vHA-ieZ0IVG",
    "outputId": "b1e17583-c538-47cb-83d8-35ce62be6b9b"
   },
   "outputs": [
    {
     "data": {
      "image/png": "[encoded data removed]",
      "text/plain": [
       "<Figure size 432x288 with 2 Axes>"
      ]
     },
     "metadata": {
      "needs_background": "light"
     },
     "output_type": "display_data"
    }
   ],
   "source": [
    "import seaborn as sns\n",
    "sns.heatmap(df.isnull(),cmap='viridis');"
   ]
  },
  {
   "cell_type": "code",
   "execution_count": 19,
   "metadata": {
    "colab": {
     "base_uri": "https://localhost:8080/",
     "height": 334
    },
    "id": "2H4SUQkV0VIO",
    "outputId": "991b921f-b0fe-4b56-bcde-5b5a030d395c"
   },
   "outputs": [
    {
     "data": {
      "image/png": "[encoded data removed]",
      "text/plain": [
       "<Figure size 432x288 with 1 Axes>"
      ]
     },
     "metadata": {
      "needs_background": "light"
     },
     "output_type": "display_data"
    }
   ],
   "source": [
    "sns.countplot(df['condition'],edgecolor=sns.color_palette('dark',3),linewidth=2,palette=\"Set3\");"
   ]
  },
  {
   "cell_type": "code",
   "execution_count": 20,
   "metadata": {
    "colab": {
     "base_uri": "https://localhost:8080/",
     "height": 334
    },
    "id": "0SAlJRb61DRS",
    "outputId": "ff256d35-83fb-450e-cf77-8ef3b4e9c53e"
   },
   "outputs": [
    {
     "data": {
      "image/png": "[encoded data removed]",
      "text/plain": [
       "<Figure size 864x360 with 1 Axes>"
      ]
     },
     "metadata": {
      "needs_background": "light"
     },
     "output_type": "display_data"
    }
   ],
   "source": [
    "import matplotlib.pyplot as plt\n",
    "plt.subplots(figsize=(12,5))\n",
    "sns.histplot(x='cpu',hue='condition',data=df);"
   ]
  },
  {
   "cell_type": "markdown",
   "metadata": {
    "id": "38xyRsf-1DWM"
   },
   "source": [
    "## Transforming the data"
   ]
  },
  {
   "cell_type": "code",
   "execution_count": 21,
   "metadata": {
    "colab": {
     "base_uri": "https://localhost:8080/"
    },
    "id": "OKM5WtTQ1i0O",
    "outputId": "9d9c5152-2b3b-41b4-f687-fdbbcc8f9bdb"
   },
   "outputs": [],
   "source": [
    "##Non numeric into numerical cols\n",
    "\n",
    "from sklearn.preprocessing import LabelEncoder\n",
    "\n",
    "for column in df.columns:\n",
    "    if df[column].dtype == np.number:\n",
    "        continue\n",
    "    df[column] = LabelEncoder().fit_transform(df[column])"
   ]
  },
  {
   "cell_type": "code",
   "execution_count": 22,
   "metadata": {
    "colab": {
     "base_uri": "https://localhost:8080/",
     "height": 206
    },
    "id": "VKj68_gY1i2c",
    "outputId": "92ed1a14-23c8-4d90-a3c8-551f629f8a40"
   },
   "outputs": [
    {
     "data": {
      "text/html": [
       "<div>\n",
       "<style scoped>\n",
       "    .dataframe tbody tr th:only-of-type {\n",
       "        vertical-align: middle;\n",
       "    }\n",
       "\n",
       "    .dataframe tbody tr th {\n",
       "        vertical-align: top;\n",
       "    }\n",
       "\n",
       "    .dataframe thead th {\n",
       "        text-align: right;\n",
       "    }\n",
       "</style>\n",
       "<table border=\"1\" class=\"dataframe\">\n",
       "  <thead>\n",
       "    <tr style=\"text-align: right;\">\n",
       "      <th></th>\n",
       "      <th>min</th>\n",
       "      <th>max</th>\n",
       "      <th>average</th>\n",
       "      <th>cpu</th>\n",
       "      <th>diskfree</th>\n",
       "      <th>memory</th>\n",
       "      <th>condition</th>\n",
       "    </tr>\n",
       "  </thead>\n",
       "  <tbody>\n",
       "    <tr>\n",
       "      <th>0</th>\n",
       "      <td>1.914</td>\n",
       "      <td>3.786</td>\n",
       "      <td>2.802265</td>\n",
       "      <td>70.5</td>\n",
       "      <td>36.77</td>\n",
       "      <td>3.626398e+09</td>\n",
       "      <td>0</td>\n",
       "    </tr>\n",
       "    <tr>\n",
       "      <th>1</th>\n",
       "      <td>1.914</td>\n",
       "      <td>3.786</td>\n",
       "      <td>2.802265</td>\n",
       "      <td>70.5</td>\n",
       "      <td>36.77</td>\n",
       "      <td>3.626398e+09</td>\n",
       "      <td>0</td>\n",
       "    </tr>\n",
       "    <tr>\n",
       "      <th>2</th>\n",
       "      <td>1.914</td>\n",
       "      <td>3.786</td>\n",
       "      <td>2.802265</td>\n",
       "      <td>70.5</td>\n",
       "      <td>36.77</td>\n",
       "      <td>3.626398e+09</td>\n",
       "      <td>0</td>\n",
       "    </tr>\n",
       "    <tr>\n",
       "      <th>3</th>\n",
       "      <td>1.914</td>\n",
       "      <td>3.786</td>\n",
       "      <td>2.802265</td>\n",
       "      <td>70.5</td>\n",
       "      <td>36.77</td>\n",
       "      <td>3.626398e+09</td>\n",
       "      <td>0</td>\n",
       "    </tr>\n",
       "    <tr>\n",
       "      <th>4</th>\n",
       "      <td>0.818</td>\n",
       "      <td>2.255</td>\n",
       "      <td>1.507328</td>\n",
       "      <td>86.7</td>\n",
       "      <td>36.75</td>\n",
       "      <td>1.772482e+09</td>\n",
       "      <td>0</td>\n",
       "    </tr>\n",
       "  </tbody>\n",
       "</table>\n",
       "</div>"
      ],
      "text/plain": [
       "     min    max   average   cpu  diskfree        memory  condition\n",
       "0  1.914  3.786  2.802265  70.5     36.77  3.626398e+09          0\n",
       "1  1.914  3.786  2.802265  70.5     36.77  3.626398e+09          0\n",
       "2  1.914  3.786  2.802265  70.5     36.77  3.626398e+09          0\n",
       "3  1.914  3.786  2.802265  70.5     36.77  3.626398e+09          0\n",
       "4  0.818  2.255  1.507328  86.7     36.75  1.772482e+09          0"
      ]
     },
     "execution_count": 22,
     "metadata": {},
     "output_type": "execute_result"
    }
   ],
   "source": [
    "df.head()"
   ]
  },
  {
   "cell_type": "code",
   "execution_count": 23,
   "metadata": {},
   "outputs": [
    {
     "name": "stdout",
     "output_type": "stream",
     "text": [
      "<class 'pandas.core.frame.DataFrame'>\n",
      "Int64Index: 2057 entries, 0 to 2057\n",
      "Data columns (total 7 columns):\n",
      " #   Column     Non-Null Count  Dtype  \n",
      "---  ------     --------------  -----  \n",
      " 0   min        2057 non-null   float64\n",
      " 1   max        2057 non-null   float64\n",
      " 2   average    2057 non-null   float64\n",
      " 3   cpu        2057 non-null   float64\n",
      " 4   diskfree   2057 non-null   float64\n",
      " 5   memory     2057 non-null   float64\n",
      " 6   condition  2057 non-null   int64  \n",
      "dtypes: float64(6), int64(1)\n",
      "memory usage: 128.6 KB\n"
     ]
    }
   ],
   "source": [
    "df.info()"
   ]
  },
  {
   "cell_type": "markdown",
   "metadata": {
    "id": "MCBA1YVO1i5C"
   },
   "source": [
    "## spliting the data"
   ]
  },
  {
   "cell_type": "code",
   "execution_count": 24,
   "metadata": {
    "id": "tGj3oVU21i7W"
   },
   "outputs": [],
   "source": [
    "X = df.drop('condition',axis=1)\n",
    "Y = df['condition']"
   ]
  },
  {
   "cell_type": "code",
   "execution_count": 25,
   "metadata": {},
   "outputs": [
    {
     "data": {
      "text/plain": [
       "(2057, 6)"
      ]
     },
     "execution_count": 25,
     "metadata": {},
     "output_type": "execute_result"
    }
   ],
   "source": [
    "X.shape"
   ]
  },
  {
   "cell_type": "code",
   "execution_count": 26,
   "metadata": {},
   "outputs": [
    {
     "data": {
      "text/plain": [
       "(2057,)"
      ]
     },
     "execution_count": 26,
     "metadata": {},
     "output_type": "execute_result"
    }
   ],
   "source": [
    "Y.shape"
   ]
  },
  {
   "cell_type": "code",
   "execution_count": 27,
   "metadata": {
    "id": "xxez6b5n1i9I"
   },
   "outputs": [],
   "source": [
    "##Split the data into 75% in training and 25% in Testing\n",
    "\n",
    "from sklearn.model_selection import train_test_split\n",
    "X_train,X_test,Y_train,Y_test = train_test_split(X,Y,test_size = 0.25,random_state = 0)"
   ]
  },
  {
   "cell_type": "markdown",
   "metadata": {},
   "source": [
    "# Model Selection"
   ]
  },
  {
   "cell_type": "code",
   "execution_count": 28,
   "metadata": {},
   "outputs": [
    {
     "name": "stdout",
     "output_type": "stream",
     "text": [
      "[0.33575032 0.42351828 0.42640076 0.36790123 0.43482115]\n",
      "Mean 0.3976783480972916\n"
     ]
    }
   ],
   "source": [
    "#Logistic Regression\n",
    "\n",
    "log_model = LogisticRegression(max_iter=1000)\n",
    "scores = cross_val_score(estimator=log_model,X=X_train, y=Y_train, cv=5, scoring='roc_auc')\n",
    "print(scores)\n",
    "print(\"Mean\",scores.mean())"
   ]
  },
  {
   "cell_type": "code",
   "execution_count": 29,
   "metadata": {},
   "outputs": [
    {
     "name": "stdout",
     "output_type": "stream",
     "text": [
      "[1. 1. 1. 1. 1.]\n",
      "Mean 1.0\n"
     ]
    }
   ],
   "source": [
    "#Decision Tree\n",
    "\n",
    "decision_tree = DecisionTreeClassifier(max_depth = 9,random_state = 123,splitter = 'best',criterion = 'gini')\n",
    "scores = cross_val_score(estimator=decision_tree,X=X_train,y=Y_train, cv = 5, scoring = 'roc_auc')\n",
    "print(scores)\n",
    "print(\"Mean\",scores.mean())"
   ]
  },
  {
   "cell_type": "code",
   "execution_count": 30,
   "metadata": {},
   "outputs": [],
   "source": [
    "#Random Forest Classifier\n",
    "\n",
    "model_rf = RandomForestClassifier()"
   ]
  },
  {
   "cell_type": "code",
   "execution_count": 31,
   "metadata": {},
   "outputs": [
    {
     "name": "stdout",
     "output_type": "stream",
     "text": [
      "[1. 1. 1. 1. 1.]\n",
      "Mean 1.0\n"
     ]
    }
   ],
   "source": [
    "model_rf = RandomForestClassifier(n_estimators = 1000,oob_score=True, n_jobs= -1,\n",
    "                                 random_state=50,max_features='auto',max_leaf_nodes=30)\n",
    "\n",
    "scores = cross_val_score(estimator=model_rf,X=X_train,y=Y_train, cv = 5, scoring = 'roc_auc')\n",
    "print(scores)\n",
    "print(\"Mean\",scores.mean())"
   ]
  },
  {
   "cell_type": "markdown",
   "metadata": {},
   "source": [
    "## Checking Feature Importance"
   ]
  },
  {
   "cell_type": "code",
   "execution_count": 32,
   "metadata": {},
   "outputs": [
    {
     "data": {
      "text/plain": [
       "RandomForestClassifier(max_leaf_nodes=30, n_estimators=1000, n_jobs=-1,\n",
       "                       oob_score=True, random_state=50)"
      ]
     },
     "execution_count": 32,
     "metadata": {},
     "output_type": "execute_result"
    }
   ],
   "source": [
    "model_rf.fit(X_train,Y_train)"
   ]
  },
  {
   "cell_type": "code",
   "execution_count": 33,
   "metadata": {},
   "outputs": [
    {
     "name": "stdout",
     "output_type": "stream",
     "text": [
      "Feature importance of  cpu : 38.611301342630384 %\n",
      "Feature importance of  max : 24.21952786226036 %\n",
      "Feature importance of  average : 21.808794959771085 %\n",
      "Feature importance of  min : 9.716305435348712 %\n",
      "Feature importance of  diskfree : 3.099714561888057 %\n",
      "Feature importance of  memory : 2.5443558381013944 %\n"
     ]
    }
   ],
   "source": [
    "##Checking the features importance of various features.\n",
    "##Shorting the importance by desc order (Lowest importance at the bottom)\n",
    "\n",
    "for score,name in sorted(zip(model_rf.feature_importances_,X_train.columns), reverse=True):\n",
    "    print('Feature importance of ',name,':',score*100,'%')"
   ]
  },
  {
   "cell_type": "code",
   "execution_count": 34,
   "metadata": {},
   "outputs": [
    {
     "data": {
      "text/plain": [
       "array([ 9.71630544, 24.21952786, 21.80879496, 38.61130134,  3.09971456,\n",
       "        2.54435584])"
      ]
     },
     "execution_count": 34,
     "metadata": {},
     "output_type": "execute_result"
    }
   ],
   "source": [
    "model_rf.feature_importances_*100"
   ]
  },
  {
   "cell_type": "code",
   "execution_count": 35,
   "metadata": {},
   "outputs": [
    {
     "data": {
      "text/plain": [
       "Text(0.5, 1.0, 'Feature importance of each feature')"
      ]
     },
     "execution_count": 35,
     "metadata": {},
     "output_type": "execute_result"
    },
    {
     "data": {
      "image/png": "[encoded data removed]",
      "text/plain": [
       "<Figure size 864x504 with 1 Axes>"
      ]
     },
     "metadata": {
      "needs_background": "light"
     },
     "output_type": "display_data"
    }
   ],
   "source": [
    "##Ploting the Feature importance of each feature\n",
    "plt.figure(figsize=(12,7))\n",
    "plt.bar(X_train.columns, model_rf.feature_importances_*100,color='skyblue')\n",
    "plt.xlabel('Features',fontsize=14)\n",
    "plt.ylabel('Importance',fontsize=14)\n",
    "plt.xticks(rotation=90)\n",
    "plt.title('Feature importance of each feature',fontsize = 16)"
   ]
  },
  {
   "cell_type": "markdown",
   "metadata": {},
   "source": [
    "## Hyperparameter tuning"
   ]
  },
  {
   "cell_type": "code",
   "execution_count": 36,
   "metadata": {},
   "outputs": [
    {
     "name": "stdout",
     "output_type": "stream",
     "text": [
      "[{'n_estimators': [100, 200, 300], 'max_depth': [None, 2, 3, 10, 20], 'max_features': ['auto', 2, 4, 8, 16, 'log2', None]}]\n"
     ]
    }
   ],
   "source": [
    "param_grid = [{'n_estimators':[100,200,300],\n",
    "              'max_depth' : [None,2,3,10,20],\n",
    "              'max_features' : ['auto',2,4,8,16,'log2',None]}]\n",
    "print(param_grid)"
   ]
  },
  {
   "cell_type": "code",
   "execution_count": 37,
   "metadata": {},
   "outputs": [],
   "source": [
    "temp_rf = RandomForestClassifier(random_state = 0,n_jobs = -1)"
   ]
  },
  {
   "cell_type": "code",
   "execution_count": 38,
   "metadata": {},
   "outputs": [],
   "source": [
    "grid_search = GridSearchCV(estimator = temp_rf,param_grid=param_grid,scoring='roc_auc',cv=5,n_jobs=-1)"
   ]
  },
  {
   "cell_type": "code",
   "execution_count": 39,
   "metadata": {},
   "outputs": [
    {
     "data": {
      "text/plain": [
       "GridSearchCV(cv=5, estimator=RandomForestClassifier(n_jobs=-1, random_state=0),\n",
       "             n_jobs=-1,\n",
       "             param_grid=[{'max_depth': [None, 2, 3, 10, 20],\n",
       "                          'max_features': ['auto', 2, 4, 8, 16, 'log2', None],\n",
       "                          'n_estimators': [100, 200, 300]}],\n",
       "             scoring='roc_auc')"
      ]
     },
     "execution_count": 39,
     "metadata": {},
     "output_type": "execute_result"
    }
   ],
   "source": [
    "grid_search.fit(X_train,Y_train)"
   ]
  },
  {
   "cell_type": "code",
   "execution_count": 40,
   "metadata": {},
   "outputs": [
    {
     "data": {
      "text/plain": [
       "1.0"
      ]
     },
     "execution_count": 40,
     "metadata": {},
     "output_type": "execute_result"
    }
   ],
   "source": [
    "grid_search.best_score_"
   ]
  },
  {
   "cell_type": "code",
   "execution_count": 41,
   "metadata": {},
   "outputs": [
    {
     "data": {
      "text/plain": [
       "{'max_depth': None, 'max_features': 'auto', 'n_estimators': 100}"
      ]
     },
     "execution_count": 41,
     "metadata": {},
     "output_type": "execute_result"
    }
   ],
   "source": [
    "grid_search.best_params_"
   ]
  },
  {
   "cell_type": "markdown",
   "metadata": {},
   "source": [
    "## Final Model"
   ]
  },
  {
   "cell_type": "code",
   "execution_count": 42,
   "metadata": {},
   "outputs": [],
   "source": [
    "## Creating the final random forest model using grid_serch best estimator\n",
    "\n",
    "final_rf = grid_search.best_estimator_"
   ]
  },
  {
   "cell_type": "code",
   "execution_count": 43,
   "metadata": {},
   "outputs": [
    {
     "data": {
      "text/plain": [
       "RandomForestClassifier(n_jobs=-1, random_state=0)"
      ]
     },
     "execution_count": 43,
     "metadata": {},
     "output_type": "execute_result"
    }
   ],
   "source": [
    "final_rf.fit(X_train,Y_train)"
   ]
  },
  {
   "cell_type": "code",
   "execution_count": 44,
   "metadata": {},
   "outputs": [],
   "source": [
    "#Making prediction on the train set\n",
    "\n",
    "y_train_pred = final_rf.predict(X_train)"
   ]
  },
  {
   "cell_type": "code",
   "execution_count": 45,
   "metadata": {},
   "outputs": [],
   "source": [
    "#Making prediction on the test set\n",
    "\n",
    "y_test_pred = final_rf.predict(X_test)"
   ]
  },
  {
   "cell_type": "code",
   "execution_count": 46,
   "metadata": {},
   "outputs": [],
   "source": [
    "df_decision = pd.DataFrame({'Actual Value':Y_test,'Predicted Value':y_test_pred})"
   ]
  },
  {
   "cell_type": "code",
   "execution_count": 47,
   "metadata": {},
   "outputs": [
    {
     "data": {
      "text/html": [
       "<div>\n",
       "<style scoped>\n",
       "    .dataframe tbody tr th:only-of-type {\n",
       "        vertical-align: middle;\n",
       "    }\n",
       "\n",
       "    .dataframe tbody tr th {\n",
       "        vertical-align: top;\n",
       "    }\n",
       "\n",
       "    .dataframe thead th {\n",
       "        text-align: right;\n",
       "    }\n",
       "</style>\n",
       "<table border=\"1\" class=\"dataframe\">\n",
       "  <thead>\n",
       "    <tr style=\"text-align: right;\">\n",
       "      <th></th>\n",
       "      <th>Actual Value</th>\n",
       "      <th>Predicted Value</th>\n",
       "    </tr>\n",
       "  </thead>\n",
       "  <tbody>\n",
       "    <tr>\n",
       "      <th>1517</th>\n",
       "      <td>1</td>\n",
       "      <td>1</td>\n",
       "    </tr>\n",
       "    <tr>\n",
       "      <th>220</th>\n",
       "      <td>0</td>\n",
       "      <td>0</td>\n",
       "    </tr>\n",
       "    <tr>\n",
       "      <th>703</th>\n",
       "      <td>1</td>\n",
       "      <td>1</td>\n",
       "    </tr>\n",
       "    <tr>\n",
       "      <th>156</th>\n",
       "      <td>0</td>\n",
       "      <td>0</td>\n",
       "    </tr>\n",
       "    <tr>\n",
       "      <th>1373</th>\n",
       "      <td>1</td>\n",
       "      <td>1</td>\n",
       "    </tr>\n",
       "  </tbody>\n",
       "</table>\n",
       "</div>"
      ],
      "text/plain": [
       "      Actual Value  Predicted Value\n",
       "1517             1                1\n",
       "220              0                0\n",
       "703              1                1\n",
       "156              0                0\n",
       "1373             1                1"
      ]
     },
     "execution_count": 47,
     "metadata": {},
     "output_type": "execute_result"
    }
   ],
   "source": [
    "df_decision.head()"
   ]
  },
  {
   "cell_type": "code",
   "execution_count": 48,
   "metadata": {},
   "outputs": [
    {
     "data": {
      "image/png": "[encoded data removed]",
      "text/plain": [
       "<Figure size 432x288 with 1 Axes>"
      ]
     },
     "metadata": {
      "needs_background": "light"
     },
     "output_type": "display_data"
    }
   ],
   "source": [
    "sns.distplot(Y_train-y_train_pred);"
   ]
  },
  {
   "cell_type": "code",
   "execution_count": 49,
   "metadata": {},
   "outputs": [
    {
     "data": {
      "text/plain": [
       "[DecisionTreeClassifier(max_features='auto', random_state=209652396),\n",
       " DecisionTreeClassifier(max_features='auto', random_state=398764591),\n",
       " DecisionTreeClassifier(max_features='auto', random_state=924231285),\n",
       " DecisionTreeClassifier(max_features='auto', random_state=1478610112),\n",
       " DecisionTreeClassifier(max_features='auto', random_state=441365315),\n",
       " DecisionTreeClassifier(max_features='auto', random_state=1537364731),\n",
       " DecisionTreeClassifier(max_features='auto', random_state=192771779),\n",
       " DecisionTreeClassifier(max_features='auto', random_state=1491434855),\n",
       " DecisionTreeClassifier(max_features='auto', random_state=1819583497),\n",
       " DecisionTreeClassifier(max_features='auto', random_state=530702035),\n",
       " DecisionTreeClassifier(max_features='auto', random_state=626610453),\n",
       " DecisionTreeClassifier(max_features='auto', random_state=1650906866),\n",
       " DecisionTreeClassifier(max_features='auto', random_state=1879422756),\n",
       " DecisionTreeClassifier(max_features='auto', random_state=1277901399),\n",
       " DecisionTreeClassifier(max_features='auto', random_state=1682652230),\n",
       " DecisionTreeClassifier(max_features='auto', random_state=243580376),\n",
       " DecisionTreeClassifier(max_features='auto', random_state=1991416408),\n",
       " DecisionTreeClassifier(max_features='auto', random_state=1171049868),\n",
       " DecisionTreeClassifier(max_features='auto', random_state=1646868794),\n",
       " DecisionTreeClassifier(max_features='auto', random_state=2051556033),\n",
       " DecisionTreeClassifier(max_features='auto', random_state=1252949478),\n",
       " DecisionTreeClassifier(max_features='auto', random_state=1340754471),\n",
       " DecisionTreeClassifier(max_features='auto', random_state=124102743),\n",
       " DecisionTreeClassifier(max_features='auto', random_state=2061486254),\n",
       " DecisionTreeClassifier(max_features='auto', random_state=292249176),\n",
       " DecisionTreeClassifier(max_features='auto', random_state=1686997841),\n",
       " DecisionTreeClassifier(max_features='auto', random_state=1827923621),\n",
       " DecisionTreeClassifier(max_features='auto', random_state=1443447321),\n",
       " DecisionTreeClassifier(max_features='auto', random_state=305097549),\n",
       " DecisionTreeClassifier(max_features='auto', random_state=1449105480),\n",
       " DecisionTreeClassifier(max_features='auto', random_state=374217481),\n",
       " DecisionTreeClassifier(max_features='auto', random_state=636393364),\n",
       " DecisionTreeClassifier(max_features='auto', random_state=86837363),\n",
       " DecisionTreeClassifier(max_features='auto', random_state=1581585360),\n",
       " DecisionTreeClassifier(max_features='auto', random_state=1428591347),\n",
       " DecisionTreeClassifier(max_features='auto', random_state=1963466437),\n",
       " DecisionTreeClassifier(max_features='auto', random_state=1194674174),\n",
       " DecisionTreeClassifier(max_features='auto', random_state=602801999),\n",
       " DecisionTreeClassifier(max_features='auto', random_state=1589190063),\n",
       " DecisionTreeClassifier(max_features='auto', random_state=1589512640),\n",
       " DecisionTreeClassifier(max_features='auto', random_state=2055650130),\n",
       " DecisionTreeClassifier(max_features='auto', random_state=2034131043),\n",
       " DecisionTreeClassifier(max_features='auto', random_state=1284876248),\n",
       " DecisionTreeClassifier(max_features='auto', random_state=1292401841),\n",
       " DecisionTreeClassifier(max_features='auto', random_state=1982038771),\n",
       " DecisionTreeClassifier(max_features='auto', random_state=87950109),\n",
       " DecisionTreeClassifier(max_features='auto', random_state=1204863635),\n",
       " DecisionTreeClassifier(max_features='auto', random_state=768281747),\n",
       " DecisionTreeClassifier(max_features='auto', random_state=507984782),\n",
       " DecisionTreeClassifier(max_features='auto', random_state=947610023),\n",
       " DecisionTreeClassifier(max_features='auto', random_state=600956192),\n",
       " DecisionTreeClassifier(max_features='auto', random_state=352272321),\n",
       " DecisionTreeClassifier(max_features='auto', random_state=615697673),\n",
       " DecisionTreeClassifier(max_features='auto', random_state=160516793),\n",
       " DecisionTreeClassifier(max_features='auto', random_state=1909838463),\n",
       " DecisionTreeClassifier(max_features='auto', random_state=1110745632),\n",
       " DecisionTreeClassifier(max_features='auto', random_state=93837855),\n",
       " DecisionTreeClassifier(max_features='auto', random_state=454869706),\n",
       " DecisionTreeClassifier(max_features='auto', random_state=1780959476),\n",
       " DecisionTreeClassifier(max_features='auto', random_state=2034098327),\n",
       " DecisionTreeClassifier(max_features='auto', random_state=1136257699),\n",
       " DecisionTreeClassifier(max_features='auto', random_state=800291326),\n",
       " DecisionTreeClassifier(max_features='auto', random_state=1177824715),\n",
       " DecisionTreeClassifier(max_features='auto', random_state=1017555826),\n",
       " DecisionTreeClassifier(max_features='auto', random_state=1959150775),\n",
       " DecisionTreeClassifier(max_features='auto', random_state=930076700),\n",
       " DecisionTreeClassifier(max_features='auto', random_state=293921570),\n",
       " DecisionTreeClassifier(max_features='auto', random_state=580757632),\n",
       " DecisionTreeClassifier(max_features='auto', random_state=80701568),\n",
       " DecisionTreeClassifier(max_features='auto', random_state=1392175012),\n",
       " DecisionTreeClassifier(max_features='auto', random_state=505240629),\n",
       " DecisionTreeClassifier(max_features='auto', random_state=642848645),\n",
       " DecisionTreeClassifier(max_features='auto', random_state=481447462),\n",
       " DecisionTreeClassifier(max_features='auto', random_state=954863080),\n",
       " DecisionTreeClassifier(max_features='auto', random_state=502227700),\n",
       " DecisionTreeClassifier(max_features='auto', random_state=1659957521),\n",
       " DecisionTreeClassifier(max_features='auto', random_state=1905883471),\n",
       " DecisionTreeClassifier(max_features='auto', random_state=1729147268),\n",
       " DecisionTreeClassifier(max_features='auto', random_state=780912233),\n",
       " DecisionTreeClassifier(max_features='auto', random_state=1932520490),\n",
       " DecisionTreeClassifier(max_features='auto', random_state=1544074682),\n",
       " DecisionTreeClassifier(max_features='auto', random_state=485603871),\n",
       " DecisionTreeClassifier(max_features='auto', random_state=1877037944),\n",
       " DecisionTreeClassifier(max_features='auto', random_state=1728073985),\n",
       " DecisionTreeClassifier(max_features='auto', random_state=848819521),\n",
       " DecisionTreeClassifier(max_features='auto', random_state=426405863),\n",
       " DecisionTreeClassifier(max_features='auto', random_state=258666409),\n",
       " DecisionTreeClassifier(max_features='auto', random_state=2017814585),\n",
       " DecisionTreeClassifier(max_features='auto', random_state=716257571),\n",
       " DecisionTreeClassifier(max_features='auto', random_state=657731430),\n",
       " DecisionTreeClassifier(max_features='auto', random_state=732884087),\n",
       " DecisionTreeClassifier(max_features='auto', random_state=734051083),\n",
       " DecisionTreeClassifier(max_features='auto', random_state=903586222),\n",
       " DecisionTreeClassifier(max_features='auto', random_state=1538251858),\n",
       " DecisionTreeClassifier(max_features='auto', random_state=553734235),\n",
       " DecisionTreeClassifier(max_features='auto', random_state=1076688768),\n",
       " DecisionTreeClassifier(max_features='auto', random_state=1354754446),\n",
       " DecisionTreeClassifier(max_features='auto', random_state=463129187),\n",
       " DecisionTreeClassifier(max_features='auto', random_state=1562125877),\n",
       " DecisionTreeClassifier(max_features='auto', random_state=1396067212)]"
      ]
     },
     "execution_count": 49,
     "metadata": {},
     "output_type": "execute_result"
    }
   ],
   "source": [
    "final_rf.estimators_"
   ]
  },
  {
   "cell_type": "code",
   "execution_count": 50,
   "metadata": {},
   "outputs": [
    {
     "data": {
      "text/plain": [
       "100"
      ]
     },
     "execution_count": 50,
     "metadata": {},
     "output_type": "execute_result"
    }
   ],
   "source": [
    "len(final_rf.estimators_)\n"
   ]
  },
  {
   "cell_type": "markdown",
   "metadata": {},
   "source": [
    "## visualization of RandomForestTree"
   ]
  },
  {
   "cell_type": "code",
   "execution_count": 51,
   "metadata": {},
   "outputs": [
    {
     "data": {
      "image/png": "[encoded data removed]",
      "text/plain": [
       "<Figure size 1080x720 with 1 Axes>"
      ]
     },
     "metadata": {
      "needs_background": "light"
     },
     "output_type": "display_data"
    }
   ],
   "source": [
    "from sklearn import tree\n",
    "plt.figure(figsize = (15,10))\n",
    "tree.plot_tree(final_rf.estimators_[5],filled = True);"
   ]
  },
  {
   "cell_type": "code",
   "execution_count": 53,
   "metadata": {
    "id": "IISbjaRD1DdK"
   },
   "outputs": [],
   "source": [
    "### Create a Pickle file using serialization \n",
    "import pickle\n",
    "pickle_out = open(\"final_rf.pkl\",\"wb\")\n",
    "pickle.dump(final_rf, pickle_out)\n",
    "pickle_out.close()"
   ]
  },
  {
   "cell_type": "code",
   "execution_count": null,
   "metadata": {
    "id": "DlyD55TT0VKu"
   },
   "outputs": [],
   "source": []
  },
  {
   "cell_type": "code",
   "execution_count": null,
   "metadata": {},
   "outputs": [],
   "source": [
    "import time\n",
    "import os\n",
    "import joblib\n",
    "from sklearn.ensemble import RandomForestClassifier\n",
    "import numpy as np\n",
    "\n",
    "last_modified_time = None\n",
    "\n",
    "model = joblib.load(\"final_rf.pkl\")\n",
    "\n",
    "while True:\n",
    "    modified_time = os.path.getmtime(\"file.csv\")\n",
    "    if last_modified_time != modified_time:\n",
    "        last_modified_time = modified_time\n",
    "        \n",
    "        df = pd.read_csv(\"file.csv\")\n",
    "        new_data = df.tail(1)\n",
    "        new_data = new_data.drop(['timestamp','app_name'],axis=1)\n",
    "        predictions = model.predict(new_data)\n",
    "        print(\"[NO ALEART/HIGH ALERT]:[0/1]\")\n",
    "        print(\"New Prediction of data:\\n\",predictions) \n",
    "        \n",
    "    time.sleep(1)\n",
    "\n",
    "\n",
    "        "
   ]
  },
  {
   "cell_type": "code",
   "execution_count": null,
   "metadata": {},
   "outputs": [],
   "source": []
  }
 ],
 "metadata": {
  "colab": {
   "provenance": []
  },
  "kernelspec": {
   "display_name": "Python 3 (ipykernel)",
   "language": "python",
   "name": "python3"
  },
  "language_info": {
   "codemirror_mode": {
    "name": "ipython",
    "version": 3
   },
   "file_extension": ".py",
   "mimetype": "text/x-python",
   "name": "python",
   "nbconvert_exporter": "python",
   "pygments_lexer": "ipython3",
   "version": "3.9.12"
  }
 },
 "nbformat": 4,
 "nbformat_minor": 1
}
